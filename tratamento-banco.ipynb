{
 "cells": [
  {
   "cell_type": "code",
   "execution_count": 1,
   "id": "efc7c509",
   "metadata": {},
   "outputs": [],
   "source": [
    "import sqlite3\n",
    "import pandas as pd\n",
    "from datetime import datetime"
   ]
  },
  {
   "cell_type": "code",
   "execution_count": 2,
   "id": "d06f372b",
   "metadata": {},
   "outputs": [],
   "source": [
    "df = pd.read_csv('atlcrime.csv', low_memory=False)"
   ]
  },
  {
   "cell_type": "code",
   "execution_count": 3,
   "id": "87e3760a",
   "metadata": {},
   "outputs": [],
   "source": [
    "df.rename(columns={'date': 'crime_date'}, inplace = True)"
   ]
  },
  {
   "cell_type": "markdown",
   "id": "0c0740dd",
   "metadata": {},
   "source": [
    "## Tradução dos crimes"
   ]
  },
  {
   "cell_type": "code",
   "execution_count": 4,
   "id": "32de92bb",
   "metadata": {},
   "outputs": [],
   "source": [
    "df['crime'] = df['crime'].map({'LARCENY-NON VEHICLE':'FURTO SEM VEICULO',\n",
    "                             'LARCENY-FROM VEHICLE':'FURTO DE VEICULO',\n",
    "                             'AUTO THEFT':'ROUBO DE CARROS',\n",
    "                             'BURGLARY-RESIDENCE':'ARROMBAMENTO DE RESIDENCIA',\n",
    "                             'ROBBERY-PEDESTRIAN':'ROUBO DE PEDESTRE',\n",
    "                             'AGG ASSAULT':'ATAQUE FISICO',\n",
    "                             'RAPE':'ESTUPRO',\n",
    "                             'BURGLARY-NONRES':'ROUBO NAO RESIDENCIAL',\n",
    "                             'HOMICIDE':'HOMICIDIO',\n",
    "                             'ROBBERY-RESIDENCE':'ROUBO DE RESIDENCIA',\n",
    "                             'ROBBERY-COMMERCIAL':'ROUBO DE COMERCIO',\n",
    "                             },\n",
    "                             na_action=None)"
   ]
  },
  {
   "cell_type": "markdown",
   "id": "3b0513a2",
   "metadata": {},
   "source": [
    "## Conversão do texto no `crime_date` para o tipo Date"
   ]
  },
  {
   "cell_type": "code",
   "execution_count": 5,
   "id": "7cc7ace1",
   "metadata": {},
   "outputs": [],
   "source": [
    "def transformToDate(str):\n",
    "    return datetime.strptime(str, '%m/%d/%Y')\n",
    "\n",
    "df['crime_date'] = df['crime_date'].map(lambda x: transformToDate(x))"
   ]
  },
  {
   "cell_type": "markdown",
   "id": "eb2190ac",
   "metadata": {},
   "source": [
    "## Normalização da tabela\n",
    "remoção da coluna `unnamed: 0`\n",
    "alteração do `index` para coluna `number`"
   ]
  },
  {
   "cell_type": "code",
   "execution_count": 6,
   "id": "c5e6a802",
   "metadata": {},
   "outputs": [],
   "source": [
    "del df [\"Unnamed: 0\"]\n",
    "df = df.set_index(\"number\")"
   ]
  },
  {
   "cell_type": "markdown",
   "id": "f8047df5",
   "metadata": {},
   "source": [
    "## Convertendo o DataFrame `df` em um banco sqlite"
   ]
  },
  {
   "cell_type": "code",
   "execution_count": 7,
   "id": "04accbc6",
   "metadata": {},
   "outputs": [],
   "source": [
    "connection = sqlite3.connect('database.db')\n",
    "\n",
    "df.to_sql('altcrime', connection, if_exists='replace')\n",
    "connection.close()"
   ]
  }
 ],
 "metadata": {
  "kernelspec": {
   "display_name": "Python 3 (ipykernel)",
   "language": "python",
   "name": "python3"
  },
  "language_info": {
   "codemirror_mode": {
    "name": "ipython",
    "version": 3
   },
   "file_extension": ".py",
   "mimetype": "text/x-python",
   "name": "python",
   "nbconvert_exporter": "python",
   "pygments_lexer": "ipython3",
   "version": "3.10.9"
  }
 },
 "nbformat": 4,
 "nbformat_minor": 5
}
